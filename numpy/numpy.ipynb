{
 "cells": [
  {
   "source": [
    "#numpy\n",
    "#NUMERICAL PYTHON\n",
    "this is a pyhton library for working with arrays \n",
    "it has functions for working with linear algebra ,fourier transfformation and martrices \n"
   ],
   "cell_type": "markdown",
   "metadata": {}
  },
  {
   "cell_type": "code",
   "execution_count": 1,
   "metadata": {},
   "outputs": [
    {
     "output_type": "stream",
     "name": "stdout",
     "text": [
      "[1 2 3 4 5]\n"
     ]
    }
   ],
   "source": [
    "import numpy\n",
    "arr=numpy.array([1,2,3,4,5])#syntax for an array\n",
    "print(arr)"
   ]
  },
  {
   "cell_type": "code",
   "execution_count": 2,
   "metadata": {},
   "outputs": [
    {
     "output_type": "stream",
     "name": "stdout",
     "text": [
      "[1 2 3 4]\n"
     ]
    }
   ],
   "source": [
    "#you can import it with an alias name '\n",
    "import numpy as np\n",
    "arr=np.array([1,2,3,4])\n",
    "print(arr)"
   ]
  },
  {
   "cell_type": "code",
   "execution_count": 4,
   "metadata": {},
   "outputs": [
    {
     "output_type": "stream",
     "name": "stdout",
     "text": [
      "ths is version 1.20.1\n"
     ]
    }
   ],
   "source": [
    "#checking for the version\n",
    "import numpy as n\n",
    "print(\"ths is version\",n.__version__)"
   ]
  },
  {
   "cell_type": "code",
   "execution_count": 8,
   "metadata": {},
   "outputs": [
    {
     "output_type": "stream",
     "name": "stdout",
     "text": [
      "[1 2 3 4 5]\n[1 2 3 4 5]\n<class 'numpy.ndarray'>\n"
     ]
    }
   ],
   "source": [
    "'''\n",
    "the array object in numpy is called ndarray\n",
    "the ndarray can be created using the array()->function\n",
    "-to create an ndarray we can pass in a tuple ,list or array like object\n",
    "'''\n",
    "import numpy as n \n",
    "arr_list=n.array([1,2,3,4,5])\n",
    "arr_tuple=n.array((1,2,3,4,5))\n",
    "print(arr_list)\n",
    "print(arr_tuple)\n",
    "print(type(arr))"
   ]
  },
  {
   "source": [
    "#0-Darrays\n",
    "import numpy as np\n",
    "arr=np.array(42)\n",
    "print(arr)"
   ],
   "cell_type": "markdown",
   "metadata": {}
  },
  {
   "cell_type": "code",
   "execution_count": 17,
   "metadata": {},
   "outputs": [
    {
     "output_type": "stream",
     "name": "stdout",
     "text": [
      "1\n2\n3\n[1 2 3 4]\n"
     ]
    }
   ],
   "source": [
    "#1-Darrays\n",
    "#2-Darray\n",
    "#3-Darray\n",
    "import numpy as np\n",
    "arr=np.array([1,2,3,4])\n",
    "arr_2=np.array([[1,2,3],[4,5,6]])\n",
    "arr_3=np.array([[[1,2,3],[4,5,6]],[[1,2,3],[4,5,6]]])\n",
    "#checking for the dimensions\n",
    "#use the ndim attribute that returns an int that tells as how many dimensions we are working with\n",
    "print(arr.ndim)\n",
    "print(arr_2.ndim)\n",
    "print(arr_3.ndim)\n",
    "#Higher dimension arrays \n",
    "#an array can have any number of dimensions \n",
    "#wecan create an array of 5 dimensions \n",
    "import numpy as np\n",
    "arr_higher=np.array([1,2,3,4,5],ndmin=5)\n",
    "#just initilize ndim with a value which is your dimension\n",
    "#difine the number if dimensions with ndmin argument \n",
    "print(arr)"
   ]
  },
  {
   "cell_type": "code",
   "execution_count": 28,
   "metadata": {},
   "outputs": [
    {
     "output_type": "stream",
     "name": "stdout",
     "text": [
      "1 2 3 4\n[1 2 3] [4 5 6] 1 2 3 4 5 6\n[[1 2 3]\n [4 5 6]] [[1 2 3]\n [4 5 6]] 3\n"
     ]
    }
   ],
   "source": [
    "#acccessing array elements \n",
    "'''\n",
    "the values in the array can be accessed using indexing \n",
    "access the value by reffering to  its index \n",
    "the index in nupy start with index zero\n",
    "\n",
    "'''\n",
    "arr=np.array([1,2,3,4])\n",
    "print(arr[0],arr[1],arr[2],arr[3])#one dim arrays \n",
    "arr_2=np.array([[1,2,3],[4,5,6]])\n",
    "print(arr_2[0],arr_2[1],arr_2[0,0],arr_2[0,1],arr_2[0,2],arr_2[1,0],arr_2[1,1],arr_2[1,2])#two dim array \n",
    "arr_3=np.array([[[1,2,3],[4,5,6]],[[1,2,3],[4,5,6]]])\n",
    "print(arr_3[0],arr_3[1],arr_3[0,0,2])"
   ]
  },
  {
   "cell_type": "code",
   "execution_count": 36,
   "metadata": {},
   "outputs": [
    {
     "output_type": "stream",
     "name": "stdout",
     "text": [
      "[2 3 4 5]\n[2 3 4 5]\n[5]\n[1 2 3 4]\n[3 4]\n[1 3 5]\n[3 5]\n"
     ]
    }
   ],
   "source": [
    "#SLICING\n",
    "'''SLICING IN PYTHON MEANS TAKING AN ELEMENT \n",
    "    FORM ONE GIVEN INDEX TO ANOTHER GIVEN INDEX \n",
    "    [START:STOP] OR [START:STOP:STEP]\n",
    "\n",
    "'''\n",
    "import numpy as np\n",
    "arr=np.array([1,2,3,4,5])\n",
    "print(arr[1:5])#gets values from  index one to 5\n",
    "print(arr[1:])#form index 1 to the end of the list\n",
    "print(arr[4:])\n",
    "print(arr[:4])#form the start of the list to the end \n",
    "#negative slicing \n",
    "print(arr[-3:-1])\n",
    "#step\n",
    "print(arr[::2])\n",
    "print(arr[2::2])"
   ]
  },
  {
   "cell_type": "code",
   "execution_count": 40,
   "metadata": {},
   "outputs": [
    {
     "output_type": "stream",
     "name": "stdout",
     "text": [
      "[2 3]\n[4 5 6]\n[[1 2]\n [4 5]]\n"
     ]
    }
   ],
   "source": [
    "#SLICING 2D ARRAYS\n",
    "'''\n",
    "syntax{\n",
    "    arr[element,start:stop:step]\n",
    "            or\n",
    "    arr[start:stop:step , start:stop:step]        \n",
    "}\n",
    "'''\n",
    "import numpy as np \n",
    "arr=np.array([[1,2,3],[4,5,6]])\n",
    "print(arr[0,1:4])\n",
    "print(arr[1,0:])\n",
    "print(arr[0:2 ,0:2])"
   ]
  },
  {
   "cell_type": "code",
   "execution_count": 2,
   "metadata": {},
   "outputs": [
    {
     "output_type": "stream",
     "name": "stdout",
     "text": [
      "<U5\nint32\n"
     ]
    }
   ],
   "source": [
    "'''\n",
    "datatypes in python\n",
    "strings -text data \n",
    "integers ->int nmbers \n",
    "float->real numbers \n",
    "booloean->true false\n",
    "complex ->complex numbers \n",
    "i integer\n",
    "u unsigned integers\n",
    "b boolean\n",
    "u unsigned integer\n",
    "f float\n",
    "c comlex float \n",
    "m timedelta \n",
    "M datetime\n",
    "O object \n",
    "S string\n",
    "U unicode string \n",
    "V fixed chunk of memeory for other type void \n",
    "\n",
    "\n",
    "'''\n",
    "import numpy as np \n",
    "arr=np.array([1,2,3,4] ,dtype=\"i\")\n",
    "#dtype can be sued to specify the type of int \n",
    "arr_two=np.array([\"banan\",\"mango\"])\n",
    "print(arr_two.dtype)\n",
    "print(arr.dtype)"
   ]
  },
  {
   "source": [
    "#CONVERTING DATA TYPE ON EXISTING ARRAYS "
   ],
   "cell_type": "markdown",
   "metadata": {}
  },
  {
   "cell_type": "code",
   "execution_count": 9,
   "metadata": {},
   "outputs": [
    {
     "output_type": "stream",
     "name": "stdout",
     "text": [
      "[1 2 0]\n[ True  True False]\nbool\n"
     ]
    }
   ],
   "source": [
    "'''\n",
    "The best way to change the datatype of an existing array is to make a copy \n",
    "of the array with the astype() mathod \n",
    "astype ()allows as to create a copy of an array and allows as to specify \n",
    "teh data type as a parameter \n",
    "data types can be specified using a string like 'f' for float'i' for integer \n",
    "\n",
    "'''\n",
    "import numpy as np \n",
    "arr = np.array([1.1,2.2,0])#float\n",
    "new_arr=arr.astype('i')#change to integer\n",
    "sec_arr=new_arr.astype(bool)\n",
    "print(new_arr)\n",
    "print(sec_arr)#returns true when the values are one and above \n",
    "print(sec_arr.dtype)"
   ]
  },
  {
   "source": [
    "THE DIFFRENCE BTWN COPY AND VIEW \n",
    "    The main difference between a copy and a view of an array \n",
    "    is that the copy is a new array and the view is just a viewof the original \n",
    "    array \n",
    "    The copy owns the data and any changes made to the copy will not affect the \n",
    "    original array \n",
    "    The view does not own the data and any changes made to the view will affect \n",
    "    the original array and any changes made to the original array will affect the view\n",
    "    "
   ],
   "cell_type": "markdown",
   "metadata": {}
  },
  {
   "cell_type": "code",
   "execution_count": 11,
   "metadata": {},
   "outputs": [
    {
     "output_type": "stream",
     "name": "stdout",
     "text": [
      "[42  2  3  4  5]\n[1 2 3 4 5]\n"
     ]
    }
   ],
   "source": [
    "import numpy as np \n",
    "arr = np.array([1,2,3,4,5])\n",
    "x=arr.copy()\n",
    "arr[0]=42\n",
    "print(arr)#changes occured hereonly \n",
    "print(x)"
   ]
  },
  {
   "cell_type": "code",
   "execution_count": 12,
   "metadata": {},
   "outputs": [
    {
     "output_type": "stream",
     "name": "stdout",
     "text": [
      "[42  2  3  4  5]\n[42  2  3  4  5]\n"
     ]
    }
   ],
   "source": [
    "import numpy as np \n",
    "arr = np.array([1,2,3,4,5])\n",
    "x=arr.view()\n",
    "arr[0]=42\n",
    "print(arr)\n",
    "print(x)\n",
    "#both arrays were affected "
   ]
  },
  {
   "cell_type": "code",
   "execution_count": 13,
   "metadata": {},
   "outputs": [
    {
     "output_type": "stream",
     "name": "stdout",
     "text": [
      "None\n[1 2 3 4 5]\n"
     ]
    }
   ],
   "source": [
    "'''\n",
    "we can be able to show how the array in  py owns its data \n",
    "every numpy array has the attribute base thatreturns None \n",
    "if the array owns the data \n",
    "'''\n",
    "import numpy as np \n",
    "arr = np.array([1,2,3,4,5])\n",
    "x=arr.copy()\n",
    "y=arr.view()\n",
    "print(x.base)#returns none showing that it owns the data \n",
    "print(y.base)#the view returns the origiinal array "
   ]
  },
  {
   "source": [
    "NUMPY ARRAY SHAPE\n",
    "    the shape of an array is the number of elements in each dimensions \n",
    "    GET THE SHAPE OF AN ARRAY \n",
    "        Numpy arrays have an attribute called shape \n",
    "        that returns a tuple with each index having \n",
    "        the number of corresponding elements \n",
    "         \n",
    "    "
   ],
   "cell_type": "markdown",
   "metadata": {}
  },
  {
   "cell_type": "code",
   "execution_count": 32,
   "metadata": {},
   "outputs": [
    {
     "output_type": "stream",
     "name": "stdout",
     "text": [
      "(2, 4)\n2 dimensions\n[[1 2 3 4]\n [5 6 7 8]]\n"
     ]
    }
   ],
   "source": [
    "import numpy as np \n",
    "arr = np.array([[1,2,3,4],[5,6,7,8]])\n",
    "print(arr.shape)\n",
    "print(arr.ndim,\"dimensions\")\n",
    "print(arr)"
   ]
  },
  {
   "cell_type": "code",
   "execution_count": 29,
   "metadata": {},
   "outputs": [
    {
     "output_type": "stream",
     "name": "stdout",
     "text": [
      "[[[[[1 2 3 4]]]]]\n"
     ]
    }
   ],
   "source": [
    "#create a 5th dimension \n",
    "import numpy as n \n",
    "arr=np.array([1,2,3,4],ndmin=5);\n",
    "print(arr)"
   ]
  },
  {
   "cell_type": "code",
   "execution_count": 10,
   "metadata": {},
   "outputs": [
    {
     "output_type": "stream",
     "name": "stdout",
     "text": [
      "[[[ 1  2]\n  [ 3  4]\n  [ 5  6]]\n\n [[ 7  8]\n  [ 9 10]\n  [11 12]]]\n[ 1  2  3  4  5  6  7  8  9 10 11 12]\n"
     ]
    }
   ],
   "source": [
    "'''\n",
    "RESHAPING ARRAYS \n",
    "    Reshape form 1-d to 2-d\n",
    "\n",
    "'''\n",
    "import numpy as np \n",
    "arr = np.array([1, 2, 3, 4, 5, 6, 7, 8, 9, 10, 11, 12])\n",
    "newarr=arr.reshape(4,3)\n",
    "arr_3d=arr.reshape(2,3,2)#2 rows 3 cols and \n",
    "print(arr_3d)\n",
    "#print(newarr)\n",
    "#the folllowing is a view sinceit returns the original array\n",
    "print(arr_3d.base)#returns the original array -->its aview "
   ]
  },
  {
   "cell_type": "code",
   "execution_count": 15,
   "metadata": {},
   "outputs": [
    {
     "output_type": "stream",
     "name": "stdout",
     "text": [
      "[1 2 3 4 5 6]\n"
     ]
    }
   ],
   "source": [
    "#flattening an array\n",
    "'''\n",
    "this means converting a multi dimensional \n",
    "array intoa 1d array ....we can use reshape to do this \n",
    "'''\n",
    "import numpy as np \n",
    "arr=np.array([[1,2,3],[4,5,6]])\n",
    "newarr = arr.reshape(-1)\n",
    "print(newarr)"
   ]
  },
  {
   "source": [
    "#ITERATING AN ARRAY\n"
   ],
   "cell_type": "markdown",
   "metadata": {}
  },
  {
   "cell_type": "code",
   "execution_count": 16,
   "metadata": {},
   "outputs": [
    {
     "output_type": "stream",
     "name": "stdout",
     "text": [
      "1\n2\n3\n"
     ]
    }
   ],
   "source": [
    "import numpy as np \n",
    "arr= np.array([1,2,3])\n",
    "for _ in arr:\n",
    "    print(_)"
   ]
  },
  {
   "cell_type": "code",
   "execution_count": 20,
   "metadata": {},
   "outputs": [
    {
     "output_type": "stream",
     "name": "stdout",
     "text": [
      "[1 2 3]\n[4 5 6]\n1\n2\n3\n4\n5\n6\n"
     ]
    }
   ],
   "source": [
    "import numpy as np \n",
    "arr = np.array([[1,2,3],[4,5,6]])\n",
    "for _ in arr:\n",
    "    #applies when iterating only rows\n",
    "    print(_)\n",
    "#when iterating rows and columns neat the for loops \n",
    "for row in arr:\n",
    "    for col in row:\n",
    "        print(col)    "
   ]
  },
  {
   "cell_type": "code",
   "execution_count": 22,
   "metadata": {},
   "outputs": [
    {
     "output_type": "stream",
     "name": "stdout",
     "text": [
      "1\n2\n3\n4\n5\n6\n7\n8\n9\n10\n11\n12\n"
     ]
    }
   ],
   "source": [
    "#iterating 3d arrays\n",
    "import numpy as np \n",
    "\n",
    "arr = np.array([[[1, 2, 3], [4, 5, 6]], [[7, 8, 9], [10, 11, 12]]])\n",
    "for a in arr:\n",
    "    for b in a:\n",
    "        for c in b:\n",
    "            print (c)#gets the indivitual values "
   ]
  },
  {
   "cell_type": "code",
   "execution_count": null,
   "metadata": {},
   "outputs": [],
   "source": []
  }
 ],
 "metadata": {
  "kernelspec": {
   "name": "python3",
   "display_name": "Python 3.8.5 64-bit",
   "metadata": {
    "interpreter": {
     "hash": "31f2aee4e71d21fbe5cf8b01ff0e069b9275f58929596ceb00d14d90e3e16cd6"
    }
   }
  }
 },
 "nbformat": 4,
 "nbformat_minor": 5
}