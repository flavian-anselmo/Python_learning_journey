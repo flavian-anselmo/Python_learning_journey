{
 "cells": [
  {
   "source": [
    "#numpy\n",
    "#NUMERICAL PYTHON\n",
    "this is a pyhton library for working with arrays \n",
    "it has functions for working with linear algebra ,fourier transfformation and martrices \n"
   ],
   "cell_type": "markdown",
   "metadata": {}
  },
  {
   "cell_type": "code",
   "execution_count": 1,
   "metadata": {},
   "outputs": [
    {
     "output_type": "stream",
     "name": "stdout",
     "text": [
      "[1 2 3 4 5]\n"
     ]
    }
   ],
   "source": [
    "import numpy\n",
    "arr=numpy.array([1,2,3,4,5])#syntax for an array\n",
    "print(arr)"
   ]
  },
  {
   "cell_type": "code",
   "execution_count": 2,
   "metadata": {},
   "outputs": [
    {
     "output_type": "stream",
     "name": "stdout",
     "text": [
      "[1 2 3 4]\n"
     ]
    }
   ],
   "source": [
    "#you can import it with an alias name '\n",
    "import numpy as np\n",
    "arr=np.array([1,2,3,4])\n",
    "print(arr)"
   ]
  },
  {
   "cell_type": "code",
   "execution_count": 4,
   "metadata": {},
   "outputs": [
    {
     "output_type": "stream",
     "name": "stdout",
     "text": [
      "ths is version 1.20.1\n"
     ]
    }
   ],
   "source": [
    "#checking for the version\n",
    "import numpy as n\n",
    "print(\"ths is version\",n.__version__)"
   ]
  },
  {
   "cell_type": "code",
   "execution_count": 8,
   "metadata": {},
   "outputs": [
    {
     "output_type": "stream",
     "name": "stdout",
     "text": [
      "[1 2 3 4 5]\n[1 2 3 4 5]\n<class 'numpy.ndarray'>\n"
     ]
    }
   ],
   "source": [
    "'''\n",
    "the array object in numpy is called ndarray\n",
    "the ndarray can be created using the array()->function\n",
    "-to create an ndarray we can pass in a tuple ,list or array like object\n",
    "'''\n",
    "import numpy as n \n",
    "arr_list=n.array([1,2,3,4,5])\n",
    "arr_tuple=n.array((1,2,3,4,5))\n",
    "print(arr_list)\n",
    "print(arr_tuple)\n",
    "print(type(arr))"
   ]
  },
  {
   "source": [
    "#0-Darrays\n",
    "import numpy as np\n",
    "arr=np.array(42)\n",
    "print(arr)"
   ],
   "cell_type": "markdown",
   "metadata": {}
  },
  {
   "cell_type": "code",
   "execution_count": 17,
   "metadata": {},
   "outputs": [
    {
     "output_type": "stream",
     "name": "stdout",
     "text": [
      "1\n2\n3\n[1 2 3 4]\n"
     ]
    }
   ],
   "source": [
    "#1-Darrays\n",
    "#2-Darray\n",
    "#3-Darray\n",
    "import numpy as np\n",
    "arr=np.array([1,2,3,4])\n",
    "arr_2=np.array([[1,2,3],[4,5,6]])\n",
    "arr_3=np.array([[[1,2,3],[4,5,6]],[[1,2,3],[4,5,6]]])\n",
    "#checking for the dimensions\n",
    "#use the ndim attribute that returns an int that tells as how many dimensions we are working with\n",
    "print(arr.ndim)\n",
    "print(arr_2.ndim)\n",
    "print(arr_3.ndim)\n",
    "#Higher dimension arrays \n",
    "#an array can have any number of dimensions \n",
    "#wecan create an array of 5 dimensions \n",
    "import numpy as np\n",
    "arr_higher=np.array([1,2,3,4,5],ndmin=5)\n",
    "#just initilize ndim with a value which is your dimension\n",
    "#difine the number if dimensions with ndmin argument \n",
    "print(arr)"
   ]
  },
  {
   "cell_type": "code",
   "execution_count": 28,
   "metadata": {},
   "outputs": [
    {
     "output_type": "stream",
     "name": "stdout",
     "text": [
      "1 2 3 4\n[1 2 3] [4 5 6] 1 2 3 4 5 6\n[[1 2 3]\n [4 5 6]] [[1 2 3]\n [4 5 6]] 3\n"
     ]
    }
   ],
   "source": [
    "#acccessing array elements \n",
    "'''\n",
    "the values in the array can be accessed using indexing \n",
    "access the value by reffering to  its index \n",
    "the index in nupy start with index zero\n",
    "\n",
    "'''\n",
    "arr=np.array([1,2,3,4])\n",
    "print(arr[0],arr[1],arr[2],arr[3])#one dim arrays \n",
    "arr_2=np.array([[1,2,3],[4,5,6]])\n",
    "print(arr_2[0],arr_2[1],arr_2[0,0],arr_2[0,1],arr_2[0,2],arr_2[1,0],arr_2[1,1],arr_2[1,2])#two dim array \n",
    "arr_3=np.array([[[1,2,3],[4,5,6]],[[1,2,3],[4,5,6]]])\n",
    "print(arr_3[0],arr_3[1],arr_3[0,0,2])"
   ]
  },
  {
   "cell_type": "code",
   "execution_count": 36,
   "metadata": {},
   "outputs": [
    {
     "output_type": "stream",
     "name": "stdout",
     "text": [
      "[2 3 4 5]\n[2 3 4 5]\n[5]\n[1 2 3 4]\n[3 4]\n[1 3 5]\n[3 5]\n"
     ]
    }
   ],
   "source": [
    "#SLICING\n",
    "'''SLICING IN PYTHON MEANS TAKING AN ELEMENT \n",
    "    FORM ONE GIVEN INDEX TO ANOTHER GIVEN INDEX \n",
    "    [START:STOP] OR [START:STOP:STEP]\n",
    "\n",
    "'''\n",
    "import numpy as np\n",
    "arr=np.array([1,2,3,4,5])\n",
    "print(arr[1:5])#gets values from  index one to 5\n",
    "print(arr[1:])#form index 1 to the end of the list\n",
    "print(arr[4:])\n",
    "print(arr[:4])#form the start of the list to the end \n",
    "#negative slicing \n",
    "print(arr[-3:-1])\n",
    "#step\n",
    "print(arr[::2])\n",
    "print(arr[2::2])"
   ]
  },
  {
   "cell_type": "code",
   "execution_count": 15,
   "metadata": {},
   "outputs": [
    {
     "output_type": "stream",
     "name": "stdout",
     "text": [
      "[2 3]\n[4 5 6]\n[[1 2]\n [4 5]]\n"
     ]
    }
   ],
   "source": [
    "#SLICING 2D ARRAYS\n",
    "'''\n",
    "syntax{\n",
    "    arr[element,start:stop:step]\n",
    "            or\n",
    "    arr[start:stop:step , start:stop:step]        \n",
    "}\n",
    "'''\n",
    "import numpy as np \n",
    "arr=np.array([[1,2,3],[4,5,6]])\n",
    "print(arr[0,1:4])\n",
    "print(arr[1,0:])\n",
    "print(arr[0:2 ,0:2])"
   ]
  },
  {
   "cell_type": "code",
   "execution_count": 2,
   "metadata": {},
   "outputs": [
    {
     "output_type": "stream",
     "name": "stdout",
     "text": [
      "<U5\nint32\n"
     ]
    }
   ],
   "source": [
    "'''\n",
    "datatypes in python\n",
    "strings -text data \n",
    "integers ->int nmbers \n",
    "float->real numbers \n",
    "booloean->true false\n",
    "complex ->complex numbers \n",
    "i integer\n",
    "u unsigned integers\n",
    "b boolean\n",
    "u unsigned integer\n",
    "f float\n",
    "c comlex float \n",
    "m timedelta \n",
    "M datetime\n",
    "O object \n",
    "S string\n",
    "U unicode string \n",
    "V fixed chunk of memeory for other type void \n",
    "\n",
    "\n",
    "'''\n",
    "import numpy as np \n",
    "arr=np.array([1,2,3,4] ,dtype=\"i\")\n",
    "#dtype can be sued to specify the type of int \n",
    "arr_two=np.array([\"banan\",\"mango\"])\n",
    "print(arr_two.dtype)\n",
    "print(arr.dtype)"
   ]
  },
  {
   "source": [
    "#CONVERTING DATA TYPE ON EXISTING ARRAYS "
   ],
   "cell_type": "markdown",
   "metadata": {}
  },
  {
   "cell_type": "code",
   "execution_count": 9,
   "metadata": {},
   "outputs": [
    {
     "output_type": "stream",
     "name": "stdout",
     "text": [
      "[1 2 0]\n[ True  True False]\nbool\n"
     ]
    }
   ],
   "source": [
    "'''\n",
    "The best way to change the datatype of an existing array is to make a copy \n",
    "of the array with the astype() mathod \n",
    "astype ()allows as to create a copy of an array and allows as to specify \n",
    "teh data type as a parameter \n",
    "data types can be specified using a string like 'f' for float'i' for integer \n",
    "\n",
    "'''\n",
    "import numpy as np \n",
    "arr = np.array([1.1,2.2,0])#float\n",
    "new_arr=arr.astype('i')#change to integer\n",
    "sec_arr=new_arr.astype(bool)\n",
    "print(new_arr)\n",
    "print(sec_arr)#returns true when the values are one and above \n",
    "print(sec_arr.dtype)"
   ]
  },
  {
   "source": [
    "THE DIFFRENCE BTWN COPY AND VIEW \n",
    "    The main difference between a copy and a view of an array \n",
    "    is that the copy is a new array and the view is just a viewof the original \n",
    "    array \n",
    "    The copy owns the data and any changes made to the copy will not affect the \n",
    "    original array \n",
    "    The view does not own the data and any changes made to the view will affect \n",
    "    the original array and any changes made to the original array will affect the view\n",
    "    "
   ],
   "cell_type": "markdown",
   "metadata": {}
  },
  {
   "cell_type": "code",
   "execution_count": 11,
   "metadata": {},
   "outputs": [
    {
     "output_type": "stream",
     "name": "stdout",
     "text": [
      "[42  2  3  4  5]\n[1 2 3 4 5]\n"
     ]
    }
   ],
   "source": [
    "import numpy as np \n",
    "arr = np.array([1,2,3,4,5])\n",
    "x=arr.copy()\n",
    "arr[0]=42\n",
    "print(arr)#changes occured hereonly \n",
    "print(x)"
   ]
  },
  {
   "cell_type": "code",
   "execution_count": 12,
   "metadata": {},
   "outputs": [
    {
     "output_type": "stream",
     "name": "stdout",
     "text": [
      "[42  2  3  4  5]\n[42  2  3  4  5]\n"
     ]
    }
   ],
   "source": [
    "import numpy as np \n",
    "arr = np.array([1,2,3,4,5])\n",
    "x=arr.view()\n",
    "arr[0]=42\n",
    "print(arr)\n",
    "print(x)\n",
    "#both arrays were affected "
   ]
  },
  {
   "cell_type": "code",
   "execution_count": 13,
   "metadata": {},
   "outputs": [
    {
     "output_type": "stream",
     "name": "stdout",
     "text": [
      "None\n[1 2 3 4 5]\n"
     ]
    }
   ],
   "source": [
    "'''\n",
    "we can be able to show how the array in  py owns its data \n",
    "every numpy array has the attribute base thatreturns None \n",
    "if the array owns the data \n",
    "'''\n",
    "import numpy as np \n",
    "arr = np.array([1,2,3,4,5])\n",
    "x=arr.copy()\n",
    "y=arr.view()\n",
    "print(x.base)#returns none showing that it owns the data \n",
    "print(y.base)#the view returns the origiinal array "
   ]
  },
  {
   "source": [
    "NUMPY ARRAY SHAPE\n",
    "    the shape of an array is the number of elements in each dimensions \n",
    "    GET THE SHAPE OF AN ARRAY \n",
    "        Numpy arrays have an attribute called shape \n",
    "        that returns a tuple with each index having \n",
    "        the number of corresponding elements \n",
    "         \n",
    "    "
   ],
   "cell_type": "markdown",
   "metadata": {}
  },
  {
   "cell_type": "code",
   "execution_count": 32,
   "metadata": {},
   "outputs": [
    {
     "output_type": "stream",
     "name": "stdout",
     "text": [
      "(2, 4)\n2 dimensions\n[[1 2 3 4]\n [5 6 7 8]]\n"
     ]
    }
   ],
   "source": [
    "import numpy as np \n",
    "arr = np.array([[1,2,3,4],[5,6,7,8]])\n",
    "print(arr.shape)\n",
    "print(arr.ndim,\"dimensions\")\n",
    "print(arr)"
   ]
  },
  {
   "cell_type": "code",
   "execution_count": 29,
   "metadata": {},
   "outputs": [
    {
     "output_type": "stream",
     "name": "stdout",
     "text": [
      "[[[[[1 2 3 4]]]]]\n"
     ]
    }
   ],
   "source": [
    "#create a 5th dimension \n",
    "import numpy as n \n",
    "arr=np.array([1,2,3,4],ndmin=5);\n",
    "print(arr)"
   ]
  },
  {
   "cell_type": "code",
   "execution_count": 10,
   "metadata": {},
   "outputs": [
    {
     "output_type": "stream",
     "name": "stdout",
     "text": [
      "[[[ 1  2]\n  [ 3  4]\n  [ 5  6]]\n\n [[ 7  8]\n  [ 9 10]\n  [11 12]]]\n[ 1  2  3  4  5  6  7  8  9 10 11 12]\n"
     ]
    }
   ],
   "source": [
    "'''\n",
    "RESHAPING ARRAYS \n",
    "    Reshape form 1-d to 2-d\n",
    "\n",
    "'''\n",
    "import numpy as np \n",
    "arr = np.array([1, 2, 3, 4, 5, 6, 7, 8, 9, 10, 11, 12])\n",
    "newarr=arr.reshape(4,3)\n",
    "arr_3d=arr.reshape(2,3,2)#2 rows 3 cols and \n",
    "print(arr_3d)\n",
    "#print(newarr)\n",
    "#the folllowing is a view sinceit returns the original array\n",
    "print(arr_3d.base)#returns the original array -->its aview "
   ]
  },
  {
   "cell_type": "code",
   "execution_count": 15,
   "metadata": {},
   "outputs": [
    {
     "output_type": "stream",
     "name": "stdout",
     "text": [
      "[1 2 3 4 5 6]\n"
     ]
    }
   ],
   "source": [
    "#flattening an array\n",
    "'''\n",
    "this means converting a multi dimensional \n",
    "array intoa 1d array ....we can use reshape to do this \n",
    "'''\n",
    "import numpy as np \n",
    "arr=np.array([[1,2,3],[4,5,6]])\n",
    "newarr = arr.reshape(-1)\n",
    "print(newarr)"
   ]
  },
  {
   "source": [
    "#ITERATING AN ARRAY\n"
   ],
   "cell_type": "markdown",
   "metadata": {}
  },
  {
   "cell_type": "code",
   "execution_count": 16,
   "metadata": {},
   "outputs": [
    {
     "output_type": "stream",
     "name": "stdout",
     "text": [
      "1\n2\n3\n"
     ]
    }
   ],
   "source": [
    "import numpy as np \n",
    "arr= np.array([1,2,3])\n",
    "for _ in arr:\n",
    "    print(_)"
   ]
  },
  {
   "cell_type": "code",
   "execution_count": 20,
   "metadata": {},
   "outputs": [
    {
     "output_type": "stream",
     "name": "stdout",
     "text": [
      "[1 2 3]\n[4 5 6]\n1\n2\n3\n4\n5\n6\n"
     ]
    }
   ],
   "source": [
    "import numpy as np \n",
    "arr = np.array([[1,2,3],[4,5,6]])\n",
    "for _ in arr:\n",
    "    #applies when iterating only rows\n",
    "    print(_)\n",
    "#when iterating rows and columns neat the for loops \n",
    "for row in arr:\n",
    "    for col in row:\n",
    "        print(col)    "
   ]
  },
  {
   "cell_type": "code",
   "execution_count": 22,
   "metadata": {},
   "outputs": [
    {
     "output_type": "stream",
     "name": "stdout",
     "text": [
      "1\n2\n3\n4\n5\n6\n7\n8\n9\n10\n11\n12\n"
     ]
    }
   ],
   "source": [
    "#iterating 3d arrays\n",
    "import numpy as np \n",
    "\n",
    "arr = np.array([[[1, 2, 3], [4, 5, 6]], [[7, 8, 9], [10, 11, 12]]])\n",
    "for a in arr:\n",
    "    for b in a:\n",
    "        for c in b:\n",
    "            print (c)#gets the indivitual values "
   ]
  },
  {
   "cell_type": "code",
   "execution_count": 3,
   "metadata": {},
   "outputs": [
    {
     "output_type": "stream",
     "name": "stdout",
     "text": [
      "1\n2\n3\n4\n5\n6\n7\n8\n"
     ]
    }
   ],
   "source": [
    "#iterating arrays using nditer()\n",
    "'''\n",
    "this function can be used from very basic to very \n",
    "advanced  iterations \n",
    "it solved some basic isssues which we face in iterations \n",
    "when looping through large arrays one \n",
    "needs n number of arrays \n",
    "for example when iterating a 3d array \n",
    "'''\n",
    "import numpy as np \n",
    "arr = np.array([[[1, 2], [3, 4]], [[5, 6], [7, 8]]])\n",
    "for _ in np.nditer(arr):\n",
    "    print(_)\n",
    "    //thhis wil be able to fetch each value "
   ]
  },
  {
   "cell_type": "code",
   "execution_count": 10,
   "metadata": {},
   "outputs": [
    {
     "output_type": "error",
     "ename": "TypeError",
     "evalue": "'op_dtype' is an invalid keyword argument for nditer()",
     "traceback": [
      "\u001b[0;31m---------------------------------------------------------------------------\u001b[0m",
      "\u001b[0;31mTypeError\u001b[0m                                 Traceback (most recent call last)",
      "\u001b[0;32m<ipython-input-10-0c56e53d4faa>\u001b[0m in \u001b[0;36m<module>\u001b[0;34m\u001b[0m\n\u001b[1;32m      4\u001b[0m '''\n\u001b[1;32m      5\u001b[0m \u001b[0marr\u001b[0m\u001b[0;34m=\u001b[0m\u001b[0mnp\u001b[0m\u001b[0;34m.\u001b[0m\u001b[0marray\u001b[0m\u001b[0;34m(\u001b[0m\u001b[0;34m[\u001b[0m\u001b[0;36m1\u001b[0m\u001b[0;34m,\u001b[0m\u001b[0;36m2\u001b[0m\u001b[0;34m,\u001b[0m\u001b[0;36m3\u001b[0m\u001b[0;34m]\u001b[0m\u001b[0;34m)\u001b[0m\u001b[0;34m\u001b[0m\u001b[0;34m\u001b[0m\u001b[0m\n\u001b[0;32m----> 6\u001b[0;31m \u001b[0;32mfor\u001b[0m \u001b[0m_\u001b[0m \u001b[0;32min\u001b[0m \u001b[0mnp\u001b[0m\u001b[0;34m.\u001b[0m\u001b[0mnditer\u001b[0m\u001b[0;34m(\u001b[0m\u001b[0marr\u001b[0m\u001b[0;34m,\u001b[0m\u001b[0mflags\u001b[0m\u001b[0;34m=\u001b[0m\u001b[0;34m[\u001b[0m\u001b[0;34m\"buffered\"\u001b[0m\u001b[0;34m]\u001b[0m\u001b[0;34m,\u001b[0m\u001b[0mop_dtype\u001b[0m\u001b[0;34m=\u001b[0m\u001b[0;34m[\u001b[0m\u001b[0;34m\"S\"\u001b[0m\u001b[0;34m]\u001b[0m\u001b[0;34m)\u001b[0m\u001b[0;34m:\u001b[0m\u001b[0;34m\u001b[0m\u001b[0;34m\u001b[0m\u001b[0m\n\u001b[0m\u001b[1;32m      7\u001b[0m     \u001b[0mprint\u001b[0m\u001b[0;34m(\u001b[0m\u001b[0m_\u001b[0m\u001b[0;34m)\u001b[0m\u001b[0;34m\u001b[0m\u001b[0;34m\u001b[0m\u001b[0m\n",
      "\u001b[0;31mTypeError\u001b[0m: 'op_dtype' is an invalid keyword argument for nditer()"
     ]
    }
   ],
   "source": [
    "import numpy as np \n",
    "'''\n",
    "op_dtype argument and pass it teh expected datatype to change of elements while iterating \n",
    "'''\n",
    "arr=np.array([1,2,3])\n",
    "for _ in np.nditer(arr,flags=[\"buffered\"],op_dtype=[\"S\"]):\n",
    "    print(_)"
   ]
  },
  {
   "cell_type": "code",
   "execution_count": 18,
   "metadata": {},
   "outputs": [
    {
     "output_type": "stream",
     "name": "stdout",
     "text": [
      "5\n7\n"
     ]
    }
   ],
   "source": [
    "#ITERATE WITH STEPS \n",
    "import numpy as np \n",
    "arr=np.array([[1,2,3,4],[5,6,7,8]])\n",
    "for _ in np.nditer(arr[1,0:3:2]):\n",
    "    print(_)\n",
    "    #arr[index,start:stop:step]"
   ]
  },
  {
   "cell_type": "code",
   "execution_count": 39,
   "metadata": {},
   "outputs": [
    {
     "output_type": "stream",
     "name": "stdout",
     "text": [
      "(0, 0) 1\n(0, 1) 2\n(0, 2) 3\n(0, 3) 4\n(1, 0) 5\n(1, 1) 6\n(1, 2) 7\n(1, 3) 8\n"
     ]
    }
   ],
   "source": [
    "#enumerated iteration using ndenumerate()\n",
    "'''\n",
    "enumeration means mentioning sequence number of something \n",
    "one by one ..sometimes we require correspondence \n",
    "'''\n",
    "import numpy as np \n",
    "arr=np.array([[1,2,3,4],[5,6,7,8]])\n",
    "for idx,_ in np.ndenumerate(arr):\n",
    "    print(idx,_)#provides all the indices \n"
   ]
  },
  {
   "cell_type": "code",
   "execution_count": 40,
   "metadata": {},
   "outputs": [
    {
     "output_type": "stream",
     "name": "stdout",
     "text": [
      "[1 2 3 4 5 6]\n"
     ]
    }
   ],
   "source": [
    "#joining numpy arrays \n",
    "import numpy as np \n",
    "arr_one = np.array([1,2,3])\n",
    "arr_two = np.array([4,5,6])\n",
    "arr_cont = np.concatenate((arr_one,arr_two))\n",
    "print(arr_cont)"
   ]
  },
  {
   "cell_type": "code",
   "execution_count": 1,
   "metadata": {},
   "outputs": [
    {
     "output_type": "stream",
     "name": "stdout",
     "text": [
      "[[1 2 3 2 3 4]\n [4 5 6 7 8 9]]\n2\n"
     ]
    }
   ],
   "source": [
    "#joining 2d\n",
    "import numpy as np \n",
    "a=np.array([[1,2,3],[4,5,6]])\n",
    "b=np.array([[2,3,4],[7,8,9]])\n",
    "j=np.concatenate((a,b),axis=1)\n",
    "#with respect to the columns \n",
    "'''\n",
    "axis -rows and columns \n",
    "the axis is 0 by default \n",
    "there for it concatenates in respect \n",
    "with the columns \n",
    "set the axis to 1 this makes the array to be \n",
    "concatenated in respect to rows \n",
    "\n",
    "\n",
    "'''\n",
    "print(j)\n",
    "print(j.ndim)"
   ]
  },
  {
   "cell_type": "code",
   "execution_count": 48,
   "metadata": {},
   "outputs": [
    {
     "output_type": "stream",
     "name": "stdout",
     "text": [
      "[[1 4]\n [2 5]\n [3 6]]\n"
     ]
    }
   ],
   "source": [
    "#joinig using stack functions\n",
    "'''\n",
    "the stack function will \n",
    "stack the rows on top of \n",
    "the other \n",
    "there are functions one can use eg{\n",
    "    vstack()\n",
    "    dstack()\n",
    "    hstack()-horizontal\n",
    "}\n",
    "'''\n",
    "import numpy as np \n",
    "arr1=np.array([1,2,3,])\n",
    "arr2 = np.array([4,5,6])\n",
    "arr = np.stack((arr1,arr2),axis=1)\n",
    "print(arr)"
   ]
  },
  {
   "cell_type": "code",
   "execution_count": 4,
   "metadata": {},
   "outputs": [
    {
     "output_type": "stream",
     "name": "stdout",
     "text": [
      "[[[1 2 3]\n  [2 3 4]]\n\n [[4 5 6]\n  [7 8 9]]]\n3\n"
     ]
    }
   ],
   "source": [
    "#joining 2d\n",
    "import numpy as np \n",
    "a=np.array([[1,2,3],[4,5,6]])\n",
    "b=np.array([[2,3,4],[7,8,9]])\n",
    "j=np.stack((a,b),axis=1)\n",
    "print(j)\n",
    "print(j.ndim)"
   ]
  },
  {
   "cell_type": "code",
   "execution_count": 3,
   "metadata": {},
   "outputs": [
    {
     "output_type": "stream",
     "name": "stdout",
     "text": [
      "[[[1 7]\n  [2 8]\n  [3 9]]]\n[1 2 3 7 8 9]\n[[1 2 3]\n [7 8 9]]\n"
     ]
    }
   ],
   "source": [
    "#stacking along rows\n",
    "#joining 2d\n",
    "import numpy as np \n",
    "a=np.array([1,2,3])\n",
    "b=np.array([7,8,9])\n",
    "j=np.dstack((a,b))#depth along the height \n",
    "k=np.hstack((a,b))#horizontal along the rows \n",
    "l=np.vstack((a,b))#vertivcal stack along the columns \n",
    "\n",
    "print(j)\n",
    "print(k)\n",
    "print(l)"
   ]
  },
  {
   "source": [
    "split"
   ],
   "cell_type": "markdown",
   "metadata": {}
  },
  {
   "cell_type": "code",
   "execution_count": 61,
   "metadata": {},
   "outputs": [
    {
     "output_type": "stream",
     "name": "stdout",
     "text": [
      "[array([1, 2]), array([3, 4]), array([5, 6]), array([7])]\n[1 2]\n[3 4]\n[5 6]\n[7]\n"
     ]
    }
   ],
   "source": [
    "'''\n",
    "array_split() for splitting arrays \n",
    "splits the arrays into chanks of arrays \n",
    "'''\n",
    "import numpy as np \n",
    "a=np.array([1,2,3,4,5,6,7])\n",
    "new=np.array_split(a,4)#split into four parts\n",
    "print(new)\n",
    "print(new[0])\n",
    "print(new[1])\n",
    "print(new[2])\n",
    "print(new[3])"
   ]
  },
  {
   "cell_type": "code",
   "execution_count": 6,
   "metadata": {},
   "outputs": [
    {
     "output_type": "stream",
     "name": "stdout",
     "text": [
      "[array([[1, 2],\n       [3, 4]]), array([[5, 6],\n       [7, 8]]), array([[ 9, 10],\n       [11, 12]])]\nthe chunks of arrays generated is: 3\n[[1 2]\n [3 4]]\n[[5 6]\n [7 8]]\n[[ 9 10]\n [11 12]]\n"
     ]
    }
   ],
   "source": [
    "'''\n",
    "split 2d arrays\n",
    "\n",
    "'''\n",
    "import numpy as np \n",
    "\n",
    "arr = np.array([[1, 2], [3, 4], [5, 6], [7, 8], [9, 10], [11, 12]])\n",
    "n=np.array_split(arr,3)\n",
    "print(n)\n",
    "print(\"the chunks of arrays generated is:\",len(n))\n",
    "print(n[0])\n",
    "print(n[1])\n",
    "print(n[2])"
   ]
  },
  {
   "cell_type": "code",
   "execution_count": 13,
   "metadata": {},
   "outputs": [
    {
     "output_type": "stream",
     "name": "stdout",
     "text": [
      "[array([[ 1],\n       [ 4],\n       [ 7],\n       [10],\n       [13],\n       [16]]), array([[ 2],\n       [ 5],\n       [ 8],\n       [11],\n       [14],\n       [17]]), array([[ 3],\n       [ 6],\n       [ 9],\n       [12],\n       [15],\n       [18]])]\nchunks generated are: 3\n1\n"
     ]
    }
   ],
   "source": [
    "#split using axis \n",
    "import numpy as np \n",
    "\n",
    "arr = np.array([[1, 2, 3], \n",
    "                [4, 5, 6],\n",
    "                [7, 8, 9],\n",
    "                [10, 11, 12],\n",
    "                [13, 14, 15], \n",
    "                [16, 17, 18]]\n",
    "            )\n",
    "newarr=np.array_split(arr,3,axis=1)\n",
    "print(newarr)\n",
    "print(\"chunks generated are:\",len(newarr))\n",
    "print(arr[0].ndim)"
   ]
  },
  {
   "cell_type": "code",
   "execution_count": 17,
   "metadata": {},
   "outputs": [
    {
     "output_type": "stream",
     "name": "stdout",
     "text": [
      "[array([[ 1],\n       [ 4],\n       [ 7],\n       [10],\n       [13],\n       [16]]), array([[ 2],\n       [ 5],\n       [ 8],\n       [11],\n       [14],\n       [17]]), array([[ 3],\n       [ 6],\n       [ 9],\n       [12],\n       [15],\n       [18]])]\n"
     ]
    }
   ],
   "source": [
    "#alternative of using axis \n",
    "import numpy as np \n",
    "#alternative for axis =0 the default \n",
    "arr = np.array([[1, 2, 3], \n",
    "                [4, 5, 6],\n",
    "                [7, 8, 9],\n",
    "                [10, 11, 12],\n",
    "                [13, 14, 15], \n",
    "                [16, 17, 18]]\n",
    "            )\n",
    "newr=np.hsplit(arr,3)   \n",
    "print(newr)         \n"
   ]
  },
  {
   "cell_type": "code",
   "execution_count": 18,
   "metadata": {},
   "outputs": [
    {
     "output_type": "stream",
     "name": "stdout",
     "text": [
      "[array([[1, 2, 3],\n       [4, 5, 6]]), array([[ 7,  8,  9],\n       [10, 11, 12]]), array([[13, 14, 15],\n       [16, 17, 18]])]\n"
     ]
    }
   ],
   "source": [
    "import numpy as np \n",
    "#when the axis is zero \n",
    "arr = np.array([[1, 2, 3], \n",
    "                [4, 5, 6],\n",
    "                [7, 8, 9],\n",
    "                [10, 11, 12],\n",
    "                [13, 14, 15], \n",
    "                [16, 17, 18]]\n",
    "            )\n",
    "newr=np.vsplit(arr,3)   \n",
    "print(newr)  "
   ]
  },
  {
   "cell_type": "code",
   "execution_count": 19,
   "metadata": {},
   "outputs": [
    {
     "output_type": "error",
     "ename": "ValueError",
     "evalue": "dsplit only works on arrays of 3 or more dimensions",
     "traceback": [
      "\u001b[0;31m---------------------------------------------------------------------------\u001b[0m",
      "\u001b[0;31mValueError\u001b[0m                                Traceback (most recent call last)",
      "\u001b[0;32m<ipython-input-19-7519bbf10357>\u001b[0m in \u001b[0;36m<module>\u001b[0;34m\u001b[0m\n\u001b[1;32m      8\u001b[0m                 [16, 17, 18]]\n\u001b[1;32m      9\u001b[0m             )\n\u001b[0;32m---> 10\u001b[0;31m \u001b[0mnewr\u001b[0m\u001b[0;34m=\u001b[0m\u001b[0mnp\u001b[0m\u001b[0;34m.\u001b[0m\u001b[0mdsplit\u001b[0m\u001b[0;34m(\u001b[0m\u001b[0marr\u001b[0m\u001b[0;34m,\u001b[0m\u001b[0;36m3\u001b[0m\u001b[0;34m)\u001b[0m\u001b[0;34m\u001b[0m\u001b[0;34m\u001b[0m\u001b[0m\n\u001b[0m\u001b[1;32m     11\u001b[0m \u001b[0mprint\u001b[0m\u001b[0;34m(\u001b[0m\u001b[0mnewr\u001b[0m\u001b[0;34m)\u001b[0m\u001b[0;34m\u001b[0m\u001b[0;34m\u001b[0m\u001b[0m\n",
      "\u001b[0;32m<__array_function__ internals>\u001b[0m in \u001b[0;36mdsplit\u001b[0;34m(*args, **kwargs)\u001b[0m\n",
      "\u001b[0;32m~/.local/lib/python3.8/site-packages/numpy/lib/shape_base.py\u001b[0m in \u001b[0;36mdsplit\u001b[0;34m(ary, indices_or_sections)\u001b[0m\n\u001b[1;32m   1033\u001b[0m     \"\"\"\n\u001b[1;32m   1034\u001b[0m     \u001b[0;32mif\u001b[0m \u001b[0m_nx\u001b[0m\u001b[0;34m.\u001b[0m\u001b[0mndim\u001b[0m\u001b[0;34m(\u001b[0m\u001b[0mary\u001b[0m\u001b[0;34m)\u001b[0m \u001b[0;34m<\u001b[0m \u001b[0;36m3\u001b[0m\u001b[0;34m:\u001b[0m\u001b[0;34m\u001b[0m\u001b[0;34m\u001b[0m\u001b[0m\n\u001b[0;32m-> 1035\u001b[0;31m         \u001b[0;32mraise\u001b[0m \u001b[0mValueError\u001b[0m\u001b[0;34m(\u001b[0m\u001b[0;34m'dsplit only works on arrays of 3 or more dimensions'\u001b[0m\u001b[0;34m)\u001b[0m\u001b[0;34m\u001b[0m\u001b[0;34m\u001b[0m\u001b[0m\n\u001b[0m\u001b[1;32m   1036\u001b[0m     \u001b[0;32mreturn\u001b[0m \u001b[0msplit\u001b[0m\u001b[0;34m(\u001b[0m\u001b[0mary\u001b[0m\u001b[0;34m,\u001b[0m \u001b[0mindices_or_sections\u001b[0m\u001b[0;34m,\u001b[0m \u001b[0;36m2\u001b[0m\u001b[0;34m)\u001b[0m\u001b[0;34m\u001b[0m\u001b[0;34m\u001b[0m\u001b[0m\n\u001b[1;32m   1037\u001b[0m \u001b[0;34m\u001b[0m\u001b[0m\n",
      "\u001b[0;31mValueError\u001b[0m: dsplit only works on arrays of 3 or more dimensions"
     ]
    }
   ],
   "source": [
    "import numpy as np \n",
    "\n",
    "arr = np.array([[1, 2, 3], \n",
    "                [4, 5, 6],\n",
    "                [7, 8, 9],\n",
    "                [10, 11, 12],\n",
    "                [13, 14, 15], \n",
    "                [16, 17, 18]]\n",
    "            )\n",
    "newr=np.dsplit(arr,3) \n",
    "#depth split only works for arrays above 3 dimensions   \n",
    "print(newr)  "
   ]
  },
  {
   "cell_type": "code",
   "execution_count": 22,
   "metadata": {},
   "outputs": [
    {
     "output_type": "stream",
     "name": "stdout",
     "text": [
      "found val\n"
     ]
    }
   ],
   "source": [
    "#numpy seaching arrays \n",
    "'''\n",
    "you can search an array for a certain value and return th e indices that get \n",
    "a match \n",
    "to search an array use the where() method \n",
    "inside the where function we can use expressions or any logic of your choice \n",
    "\n",
    "'''\n",
    "import numpy as np \n",
    "arr = np.array([1,2,3,4,5,6,7,8,9])\n",
    "if np.where(arr == 4):\n",
    "    print (\"found val\")\n",
    "else:\n",
    "    print(\"not found\")    \n"
   ]
  },
  {
   "cell_type": "code",
   "execution_count": 35,
   "metadata": {},
   "outputs": [
    {
     "output_type": "stream",
     "name": "stdout",
     "text": [
      "the sorted array is: [1 2 3 5 6 7 9]\nthe index is: 5 for the left to right \nthe value is: 7\n"
     ]
    }
   ],
   "source": [
    "#search sorted\n",
    "'''\n",
    "the method searchsorted() method which performs a binary search \n",
    "in the array  and returns the index where the specified value \n",
    "be insretd to maintain the search order \n",
    "the method assumes that the array is already sorted hence good practice sort \n",
    "the array before usinfg the array\n",
    "the method starts to serch form the left to the right but one can set side = right\n",
    "to make the method to start searching form the right to the left \n",
    "'''\n",
    "import numpy as np \n",
    "arr = np.array([3,2,1,7,6,5,9])\n",
    "arr=np.sort(arr)#sort the array\n",
    "print(\"the sorted array is:\",arr)\n",
    "x = np.searchsorted(arr,7)\n",
    "print(\"the index is:\",x,\"for the left to right \")\n",
    "print(\"the value is:\",arr[x])"
   ]
  },
  {
   "cell_type": "code",
   "execution_count": 31,
   "metadata": {},
   "outputs": [
    {
     "output_type": "stream",
     "name": "stdout",
     "text": [
      "this is the index form the right 2\nthis is the vaue found  8\n"
     ]
    }
   ],
   "source": [
    "import numpy as np \n",
    "arr = np.array([6,7,8,9])\n",
    "x = np.searchsorted(arr,7,side =\"right\")#make it start from the right side \n",
    "print (\"this is the index form the right\",x)\n",
    "print(\"this is the vaue found \",arr[x])"
   ]
  },
  {
   "cell_type": "code",
   "execution_count": 36,
   "metadata": {},
   "outputs": [
    {
     "output_type": "stream",
     "name": "stdout",
     "text": [
      "[1 2 3]\n"
     ]
    }
   ],
   "source": [
    "#serachiong for multiple values \n",
    "'''\n",
    "to serach for multiple values where thr value 2,4,6 should be insreted \n",
    "returns the values in the arrays containing three indices where 2,4,6 would be insertes to maintain the original array order \n",
    "\n",
    "'''\n",
    "import numpy as np \n",
    "arr = np.array([1,3,5,7])\n",
    "x  = np.searchsorted(arr,[2,4,6])\n",
    "print(x)"
   ]
  },
  {
   "source": [
    "#sorting arrays "
   ],
   "cell_type": "markdown",
   "metadata": {}
  },
  {
   "cell_type": "code",
   "execution_count": 40,
   "metadata": {},
   "outputs": [
    {
     "output_type": "stream",
     "name": "stdout",
     "text": [
      "the sorted array is: [0 1 3 4]\n[3 4 0 1]\n"
     ]
    }
   ],
   "source": [
    "'''\n",
    "this means putting elements in the order of sequence \n",
    "use the function sort(array_to_sort)\n",
    "this function returns the copy of the array leaving the original array unchanged \n",
    "\n",
    "\n",
    "'''\n",
    "import numpy as np \n",
    "arr = np.array([3,4,0,1])\n",
    "arr1=arr.view()\n",
    "arr_sorted = np.sort(arr)\n",
    "print(\"the sorted array is:\",arr_sorted)\n",
    "print(arr)\n"
   ]
  },
  {
   "source": [
    "sorting 2d arrays "
   ],
   "cell_type": "markdown",
   "metadata": {}
  },
  {
   "cell_type": "code",
   "execution_count": 41,
   "metadata": {},
   "outputs": [
    {
     "output_type": "stream",
     "name": "stdout",
     "text": [
      "[[3 4 5]\n [0 1 5]]\n"
     ]
    }
   ],
   "source": [
    "import numpy as np \n",
    "arr =  np.array([[3,4,5],[5,0,1]])\n",
    "print(np.sort(arr))\n",
    "#the function will sort rows "
   ]
  },
  {
   "source": [
    "numpy filter arrays "
   ],
   "cell_type": "markdown",
   "metadata": {}
  },
  {
   "cell_type": "code",
   "execution_count": 1,
   "metadata": {},
   "outputs": [
    {
     "output_type": "stream",
     "name": "stdout",
     "text": [
      "[41 43]\n"
     ]
    }
   ],
   "source": [
    "#filterarrays \n",
    "'''\n",
    "getting some elements out of an existing \n",
    "array and creating a new array out of them is called filtering \n",
    "filtering is done using a boolean index list\n",
    "[true false true ]\n",
    "if the value is true the element is contrained in the filtered array\n",
    "if the value is false the element is excluded from the filtered array \n",
    "\n",
    "'''\n",
    "import numpy as np \n",
    "arr = np.array([41,42,43,44])\n",
    "arr_filter=[True,False,True,False]\n",
    "newarr = arr[arr_filter]\n",
    "print(newarr)#this will produce 41 and 43 as they aretrue \n"
   ]
  },
  {
   "source": [
    "creating the filtered array "
   ],
   "cell_type": "markdown",
   "metadata": {}
  },
  {
   "cell_type": "code",
   "execution_count": 4,
   "metadata": {},
   "outputs": [
    {
     "output_type": "stream",
     "name": "stdout",
     "text": [
      "booleans produced: [False, False, True, True]\nthe filtered array is: [43 44]\n"
     ]
    }
   ],
   "source": [
    "import numpy as np \n",
    "arr = np.array([41,42,43,44])\n",
    "#create an empty list\n",
    "filter_arr=[]\n",
    "#loop through the list \n",
    "for _idx in arr:\n",
    "    #if element is >42 set the valu to true by appending \n",
    "    #otherwise append false \n",
    "    if _idx>42:\n",
    "        #append the booleans \n",
    "        filter_arr.append(True)\n",
    "    else:\n",
    "        filter_arr.append(False)\n",
    "print(\"booleans produced:\",filter_arr) \n",
    "#now display the filterd array \n",
    "newarr = arr[filter_arr]\n",
    "print(\"the filtered array is:\",newarr)           "
   ]
  },
  {
   "source": [
    "filter a 2d array"
   ],
   "cell_type": "markdown",
   "metadata": {}
  },
  {
   "cell_type": "code",
   "execution_count": 10,
   "metadata": {},
   "outputs": [
    {
     "output_type": "stream",
     "name": "stdout",
     "text": [
      "[[1 2 3]\n [4 5 6]\n [7 8 9]]\n2\nthe filtered array is: [6 7 8 9]\nreshaped filtered array is: [[6 7]\n [8 9]]\n"
     ]
    }
   ],
   "source": [
    "arr=np.array([1,2,3,4,5,6,7,8,9])\n",
    "arr=arr.reshape(3,3)\n",
    "print(arr)\n",
    "print(arr.ndim)#z dimensions \n",
    "#our empty array\n",
    "filter_2d_arr=[]\n",
    "filter_2d_arr=arr>5#if the value is greater than 5  append to filtered array\n",
    "new_arr=arr[filter_2d_arr]\n",
    "print(\"the filtered array is:\",new_arr)\n",
    "#now reshape it to a 2d array\n",
    "new_arr=new_arr.reshape(2,2)\n",
    "print(\"reshaped filtered array is:\",new_arr)\n"
   ]
  },
  {
   "source": [
    "#random"
   ],
   "cell_type": "markdown",
   "metadata": {}
  },
  {
   "cell_type": "code",
   "execution_count": 14,
   "metadata": {},
   "outputs": [
    {
     "output_type": "stream",
     "name": "stdout",
     "text": [
      "the randonumber generated is: 78\n"
     ]
    }
   ],
   "source": [
    "'''\n",
    "random numbers with numpy \n",
    "numpy offers a random module to work with \n",
    "'''\n",
    "from numpy import random\n",
    "#from this we can gebnerate values randomly \n",
    "#generating random int numbers\n",
    "x =  random.randint (100)\n",
    "#random numbers form 0-100\n",
    "print(\"the randonumber generated is:\",x)"
   ]
  },
  {
   "source": [
    "rand()->generate float numbers btwn 0-1"
   ],
   "cell_type": "markdown",
   "metadata": {}
  },
  {
   "cell_type": "code",
   "execution_count": 16,
   "metadata": {},
   "outputs": [
    {
     "output_type": "stream",
     "name": "stdout",
     "text": [
      "the random float numberis: 0.9632504383971955\n"
     ]
    }
   ],
   "source": [
    "from numpy import random\n",
    "x  =  random.rand()\n",
    "print(\"the random float numberis:\",x)\n"
   ]
  },
  {
   "source": [
    "Generate rando arrays "
   ],
   "cell_type": "markdown",
   "metadata": {}
  },
  {
   "cell_type": "code",
   "execution_count": 18,
   "metadata": {},
   "outputs": [
    {
     "output_type": "stream",
     "name": "stdout",
     "text": [
      "[87 79  2 61 51]\n"
     ]
    }
   ],
   "source": [
    "#gneneratea 1d array \n",
    "from numpy import random \n",
    "x =  random.randint(100,size=(5))\n",
    "print(x)"
   ]
  },
  {
   "cell_type": "code",
   "execution_count": null,
   "metadata": {},
   "outputs": [],
   "source": []
  }
 ],
 "metadata": {
  "kernelspec": {
   "name": "python3",
   "display_name": "Python 3.8.5 64-bit",
   "metadata": {
    "interpreter": {
     "hash": "916dbcbb3f70747c44a77c7bcd40155683ae19c65e1c03b4aa3499c5328201f1"
    }
   }
  }
 },
 "nbformat": 4,
 "nbformat_minor": 5
}